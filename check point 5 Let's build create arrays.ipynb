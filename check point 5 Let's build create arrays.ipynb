{
 "cells": [
  {
   "cell_type": "markdown",
   "id": "6a69c4e4",
   "metadata": {},
   "source": [
    "question N1 :"
   ]
  },
  {
   "cell_type": "code",
   "execution_count": 1,
   "id": "d7883af4",
   "metadata": {},
   "outputs": [
    {
     "name": "stdout",
     "output_type": "stream",
     "text": [
      "[[1, 2], [3, 4]]\n",
      "<class 'list'>\n"
     ]
    }
   ],
   "source": [
    "import numpy as np\n",
    "a = np.array([[1, 2], [3, 4]])\n",
    "b=a.tolist()\n",
    "print(b)\n",
    "print(type(b))"
   ]
  },
  {
   "cell_type": "markdown",
   "id": "ce7a1788",
   "metadata": {},
   "source": [
    "question N2 :"
   ]
  },
  {
   "cell_type": "code",
   "execution_count": 2,
   "id": "3e1bf897",
   "metadata": {},
   "outputs": [
    {
     "name": "stdout",
     "output_type": "stream",
     "text": [
      "[[5 8 6]\n",
      " [1 3 9]\n",
      " [5 4 7]\n",
      " [1 2 3]]\n",
      "15\n"
     ]
    }
   ],
   "source": [
    "import numpy as np\n",
    "a=np.array([[5,8,6],[1,3,9],[5,4,7],[1,2,3]])\n",
    "if len(a)==len(a[0]):\n",
    "    b=a.reshape(len(a),len(a[0]))\n",
    "    m=np.trace(b)\n",
    "    print(m)\n",
    "else :\n",
    "    b=a.reshape(len(a),len(a[0]))\n",
    "    print(b)\n",
    "    m=np.trace(b)\n",
    "    print(m)"
   ]
  },
  {
   "cell_type": "markdown",
   "id": "2344b6ff",
   "metadata": {},
   "source": [
    "question N3"
   ]
  },
  {
   "cell_type": "code",
   "execution_count": 3,
   "id": "4ddaf76c",
   "metadata": {},
   "outputs": [
    {
     "name": "stdout",
     "output_type": "stream",
     "text": [
      "Values bigger than 2 = [3 5]\n"
     ]
    }
   ],
   "source": [
    "import numpy as np\n",
    "x = np.array( [[1,2],[3,5]])\n",
    "print(\"Values bigger than 2 =\", x[x>2])"
   ]
  },
  {
   "cell_type": "markdown",
   "id": "90ceeb59",
   "metadata": {},
   "source": [
    "question N4 :"
   ]
  },
  {
   "cell_type": "code",
   "execution_count": 14,
   "id": "3aa7b81f",
   "metadata": {},
   "outputs": [
    {
     "name": "stdout",
     "output_type": "stream",
     "text": [
      "[9 6 4][15 25 37]"
     ]
    }
   ],
   "source": [
    "import numpy as np\n",
    "a=np.array([[1,2,3],[4,5,6]])\n",
    "b=np.array([[8,4,1],[11,20,31]])\n",
    "c=a.reshape(len(a),len(a[0]))\n",
    "d=b.reshape(len(a),len(a[0]))\n",
    "val=0\n",
    "if len(a)==len(b) and len(a[0])==len(b[0]):\n",
    "    for i in range (len(a)): \n",
    "        val=c[i]+d[i]\n",
    "        print(val,end=\"\")"
   ]
  },
  {
   "cell_type": "markdown",
   "id": "403690fa",
   "metadata": {},
   "source": [
    "question N5 :"
   ]
  },
  {
   "cell_type": "code",
   "execution_count": 5,
   "id": "63b8400b",
   "metadata": {},
   "outputs": [
    {
     "name": "stdout",
     "output_type": "stream",
     "text": [
      "[[20 15 10  5]\n",
      " [12 24 36  1]]\n",
      "[[  7.5    2.5   -2.5   -7.5 ]\n",
      " [ -6.25   5.75  17.75 -17.25]]\n"
     ]
    }
   ],
   "source": [
    "import numpy as np\n",
    "X = np.array([[20,15,10,5],[12,24,36,1]])\n",
    "print(X)\n",
    "Y = X - X.mean(axis=1, keepdims=True)\n",
    "print(Y)"
   ]
  }
 ],
 "metadata": {
  "kernelspec": {
   "display_name": "Python 3",
   "language": "python",
   "name": "python3"
  },
  "language_info": {
   "codemirror_mode": {
    "name": "ipython",
    "version": 3
   },
   "file_extension": ".py",
   "mimetype": "text/x-python",
   "name": "python",
   "nbconvert_exporter": "python",
   "pygments_lexer": "ipython3",
   "version": "3.8.8"
  }
 },
 "nbformat": 4,
 "nbformat_minor": 5
}
